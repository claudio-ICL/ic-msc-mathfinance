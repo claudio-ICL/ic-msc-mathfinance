{
 "cells": [
  {
   "cell_type": "markdown",
   "metadata": {},
   "source": [
    "# MATH97230 - Market microstructure"
   ]
  },
  {
   "cell_type": "markdown",
   "metadata": {},
   "source": [
    "Imperial College London, MSc Mathematics and Finance\n",
    "\n",
    "Academic year 2019-2020\n",
    "\n",
    "\n",
    "Lecturer: Johannes Muhle-Karbe\n",
    "\n",
    "Teaching assistant: Claudio Bellani\n",
    "\n"
   ]
  },
  {
   "cell_type": "markdown",
   "metadata": {},
   "source": [
    "Coursework project"
   ]
  },
  {
   "cell_type": "markdown",
   "metadata": {},
   "source": [
    "The following cells show how to load the pandas dataframes using pickle, a python module that implements binary protocols for serializing and de-serializing python object structures. A brief explanation of the dataframe entries is provided at the end of this notebook. Our pandas dataframes were derived from LOBSTER csv files, see https://lobsterdata.com/info/DataStructure.php"
   ]
  },
  {
   "cell_type": "markdown",
   "metadata": {},
   "source": [
    "Import the required modules:"
   ]
  },
  {
   "cell_type": "code",
   "execution_count": 1,
   "metadata": {},
   "outputs": [],
   "source": [
    "import sys\n",
    "import pandas as pd\n",
    "import pickle"
   ]
  },
  {
   "cell_type": "markdown",
   "metadata": {},
   "source": [
    "Specify the ticker of interest:"
   ]
  },
  {
   "cell_type": "code",
   "execution_count": 2,
   "metadata": {},
   "outputs": [],
   "source": [
    "symbol='INTC'"
   ]
  },
  {
   "cell_type": "code",
   "execution_count": 3,
   "metadata": {},
   "outputs": [],
   "source": [
    "# load the list of available dates \n",
    "with open('./data/{}/dates'.format(symbol),'rb') as source:\n",
    "    dates=pickle.load(source)"
   ]
  },
  {
   "cell_type": "markdown",
   "metadata": {},
   "source": [
    "Let us look at  e.g. the first date of trades:"
   ]
  },
  {
   "cell_type": "code",
   "execution_count": 4,
   "metadata": {},
   "outputs": [
    {
     "name": "stdout",
     "output_type": "stream",
     "text": [
      "date: 2019-01-02\n",
      "\n"
     ]
    },
    {
     "data": {
      "text/html": [
       "<div>\n",
       "<style scoped>\n",
       "    .dataframe tbody tr th:only-of-type {\n",
       "        vertical-align: middle;\n",
       "    }\n",
       "\n",
       "    .dataframe tbody tr th {\n",
       "        vertical-align: top;\n",
       "    }\n",
       "\n",
       "    .dataframe thead th {\n",
       "        text-align: right;\n",
       "    }\n",
       "</style>\n",
       "<table border=\"1\" class=\"dataframe\">\n",
       "  <thead>\n",
       "    <tr style=\"text-align: right;\">\n",
       "      <th></th>\n",
       "      <th>direction</th>\n",
       "      <th>eventType</th>\n",
       "      <th>level</th>\n",
       "      <th>price</th>\n",
       "      <th>size</th>\n",
       "      <th>time</th>\n",
       "      <th>delta_t</th>\n",
       "    </tr>\n",
       "  </thead>\n",
       "  <tbody>\n",
       "    <tr>\n",
       "      <td>0</td>\n",
       "      <td>-1</td>\n",
       "      <td>4</td>\n",
       "      <td>1</td>\n",
       "      <td>465500</td>\n",
       "      <td>58</td>\n",
       "      <td>36000.074815</td>\n",
       "      <td>36000.074815</td>\n",
       "    </tr>\n",
       "    <tr>\n",
       "      <td>1</td>\n",
       "      <td>1</td>\n",
       "      <td>4</td>\n",
       "      <td>0</td>\n",
       "      <td>465400</td>\n",
       "      <td>300</td>\n",
       "      <td>36000.120767</td>\n",
       "      <td>0.045953</td>\n",
       "    </tr>\n",
       "    <tr>\n",
       "      <td>2</td>\n",
       "      <td>1</td>\n",
       "      <td>4</td>\n",
       "      <td>1</td>\n",
       "      <td>465300</td>\n",
       "      <td>200</td>\n",
       "      <td>36000.426168</td>\n",
       "      <td>0.305400</td>\n",
       "    </tr>\n",
       "    <tr>\n",
       "      <td>3</td>\n",
       "      <td>1</td>\n",
       "      <td>4</td>\n",
       "      <td>0</td>\n",
       "      <td>465300</td>\n",
       "      <td>550</td>\n",
       "      <td>36000.441095</td>\n",
       "      <td>0.014927</td>\n",
       "    </tr>\n",
       "    <tr>\n",
       "      <td>4</td>\n",
       "      <td>-1</td>\n",
       "      <td>4</td>\n",
       "      <td>0</td>\n",
       "      <td>465300</td>\n",
       "      <td>1</td>\n",
       "      <td>36001.308240</td>\n",
       "      <td>0.867145</td>\n",
       "    </tr>\n",
       "    <tr>\n",
       "      <td>...</td>\n",
       "      <td>...</td>\n",
       "      <td>...</td>\n",
       "      <td>...</td>\n",
       "      <td>...</td>\n",
       "      <td>...</td>\n",
       "      <td>...</td>\n",
       "      <td>...</td>\n",
       "    </tr>\n",
       "    <tr>\n",
       "      <td>11264</td>\n",
       "      <td>1</td>\n",
       "      <td>4</td>\n",
       "      <td>1</td>\n",
       "      <td>470800</td>\n",
       "      <td>397</td>\n",
       "      <td>57599.065836</td>\n",
       "      <td>0.048791</td>\n",
       "    </tr>\n",
       "    <tr>\n",
       "      <td>11265</td>\n",
       "      <td>1</td>\n",
       "      <td>4</td>\n",
       "      <td>1</td>\n",
       "      <td>470800</td>\n",
       "      <td>700</td>\n",
       "      <td>57599.204977</td>\n",
       "      <td>0.139140</td>\n",
       "    </tr>\n",
       "    <tr>\n",
       "      <td>11266</td>\n",
       "      <td>1</td>\n",
       "      <td>4</td>\n",
       "      <td>1</td>\n",
       "      <td>470800</td>\n",
       "      <td>600</td>\n",
       "      <td>57599.413461</td>\n",
       "      <td>0.208484</td>\n",
       "    </tr>\n",
       "    <tr>\n",
       "      <td>11267</td>\n",
       "      <td>1</td>\n",
       "      <td>4</td>\n",
       "      <td>0</td>\n",
       "      <td>470850</td>\n",
       "      <td>600</td>\n",
       "      <td>57599.906749</td>\n",
       "      <td>0.493288</td>\n",
       "    </tr>\n",
       "    <tr>\n",
       "      <td>11268</td>\n",
       "      <td>-1</td>\n",
       "      <td>4</td>\n",
       "      <td>1</td>\n",
       "      <td>470900</td>\n",
       "      <td>146</td>\n",
       "      <td>57599.977473</td>\n",
       "      <td>0.070724</td>\n",
       "    </tr>\n",
       "  </tbody>\n",
       "</table>\n",
       "<p>11269 rows × 7 columns</p>\n",
       "</div>"
      ],
      "text/plain": [
       "       direction  eventType  level   price  size          time       delta_t\n",
       "0             -1          4      1  465500    58  36000.074815  36000.074815\n",
       "1              1          4      0  465400   300  36000.120767      0.045953\n",
       "2              1          4      1  465300   200  36000.426168      0.305400\n",
       "3              1          4      0  465300   550  36000.441095      0.014927\n",
       "4             -1          4      0  465300     1  36001.308240      0.867145\n",
       "...          ...        ...    ...     ...   ...           ...           ...\n",
       "11264          1          4      1  470800   397  57599.065836      0.048791\n",
       "11265          1          4      1  470800   700  57599.204977      0.139140\n",
       "11266          1          4      1  470800   600  57599.413461      0.208484\n",
       "11267          1          4      0  470850   600  57599.906749      0.493288\n",
       "11268         -1          4      1  470900   146  57599.977473      0.070724\n",
       "\n",
       "[11269 rows x 7 columns]"
      ]
     },
     "execution_count": 4,
     "metadata": {},
     "output_type": "execute_result"
    }
   ],
   "source": [
    "date=dates[0]   \n",
    "print('date: {}\\n'.format(date))  \n",
    "with open('./data/{}/{}_{}_trades'.format(symbol,symbol,date),'rb') as source:\n",
    "    df_trades = pickle.load(source)\n",
    "df_trades    "
   ]
  },
  {
   "cell_type": "markdown",
   "metadata": {},
   "source": [
    "# Entries of our dataframe\n",
    "\n",
    "The dataframe reports trades happened from 10am to 4pm on the corresponding date.\n",
    "\n",
    "The column \"eventType\" reports the LOBSTER code for the event, which in our case can be either $4$ (execution of a visible limit order) or $5$ (execution of a hidden limit order). The column \"direction\" is also aligned with LOBSTER labelling: it reports the value $-1$ if the execution was that of a sell limit order (hence a buyer initiated trade), and it reports the value $1$ if the execution was that of a buy limit order (hence a seller initiated trade).\n",
    "\n",
    "I already aggregated executions with the same time stamp, so that the column \"time\" is strictly increasing and the column \"size\" reports the aggregated size of the limit orders executed with the corresponding time stamp.\n",
    "The column \"price\" reports the price of the trade. \n",
    "Time is measured in seconds after midnight, size is measured in number of shares, and price is measured in $10^{-4}$US dollars.\n",
    "\n",
    "In case of an order that walks the book, the reported price is that of the first level. However, not all information is lost, thanks to the column \"level\". The column \"level\" (not originally present in the lobster message file) reports the level of the LOB at which trades occur compared to the snapshot immediately after their execution. Hence, every order eats $1-\\ell$ levels, where $\\ell$ is the number reported in the column \"level\".    "
   ]
  }
 ],
 "metadata": {
  "kernelspec": {
   "display_name": "Python 3",
   "language": "python",
   "name": "python3"
  },
  "language_info": {
   "codemirror_mode": {
    "name": "ipython",
    "version": 3
   },
   "file_extension": ".py",
   "mimetype": "text/x-python",
   "name": "python",
   "nbconvert_exporter": "python",
   "pygments_lexer": "ipython3",
   "version": "3.7.4"
  }
 },
 "nbformat": 4,
 "nbformat_minor": 2
}
